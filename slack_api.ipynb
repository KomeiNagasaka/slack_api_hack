{
 "cells": [
  {
   "cell_type": "code",
   "execution_count": null,
   "metadata": {},
   "outputs": [],
   "source": [
    "import requests\n",
    "import json\n",
    "import datetime\n",
    "\n"
   ]
  },
  {
   "cell_type": "code",
   "execution_count": null,
   "metadata": {},
   "outputs": [],
   "source": [
    "# Bot User OAuth Token を指定します\n",
    "SLACK_ACCESS_TOKEN = \"xxxx-1111111111111-2222222222222-3333333333wwwwwwwwwwAAAA\"\n",
    "CHANNEL_ID = 'Cxxxxxxxxxx'  # channel Id を指定します\n",
    "\n",
    "headers = {\n",
    "    'Authorization': 'Bearer %s' % SLACK_ACCESS_TOKEN\n",
    "}\n",
    "\n",
    "# 出力するデータのリスト\n",
    "writeTextList = []\n",
    "\n",
    "# メッセージを取得するAPIを実行します\n",
    "conversationsHistoryUrl = \"https://slack.com/api/conversations.history?channel=\" + CHANNEL_ID\n",
    "content = requests.get(conversationsHistoryUrl, headers=headers).content\n",
    "reply=requests.get()\n",
    "data = json.loads(content)\n",
    "\n"
   ]
  },
  {
   "cell_type": "code",
   "execution_count": null,
   "metadata": {},
   "outputs": [],
   "source": [
    "data"
   ]
  },
  {
   "cell_type": "code",
   "execution_count": null,
   "metadata": {},
   "outputs": [],
   "source": [
    "# データをデコードし、リストへ格納する\n",
    "messagesList = data[\"messages\"]\n",
    "for messages in messagesList:\n",
    "    messagesText = messages[\"text\"]\n",
    "\n",
    "    messagesTs = messages[\"ts\"]\n",
    "    dt = datetime.datetime.fromtimestamp(float(messages[\"ts\"]))\n",
    "\n",
    "    writeText = \"{}\\t{}\".format(dt, messagesText)\n",
    "    writeTextList.append(writeText)\n",
    "\n",
    "# リストのデータ(取得したメッセージ)をファイルへ出力する\n",
    "if 0 != len(writeTextList):\n",
    "\n",
    "    obj = map(lambda x: x + \"\\n\", writeTextList)\n",
    "    with open(\"message.txt\", \"a\", encoding=\"utf-8\", newline=\"\\n\") as f:\n",
    "        f.writelines(obj)\n"
   ]
  },
  {
   "cell_type": "code",
   "execution_count": null,
   "metadata": {},
   "outputs": [],
   "source": [
    "# スレッドを指定して、そこに含まれるリプライの取得\n",
    "url = \"https://slack.com/api/conversations.replies\"\n",
    "token = \"xxxx-1111111111111-2222222222222-3333333333wwwwwwwwwwAAAA\"\n",
    "\n",
    "header = {\n",
    "    \"Authorization\": \"Bearer {}\".format(token)\n",
    "}\n",
    "\n",
    "payload = {\n",
    "    \"channel\": \"Cxxxxxxxxxx\",\n",
    "    \"ts\": \"1234567890.123456\"\n",
    "}\n",
    "\n",
    "res = requests.get(url, headers=header, params=payload)\n",
    "\n",
    "res.json()\n"
   ]
  }
 ],
 "metadata": {
  "kernelspec": {
   "display_name": "base",
   "language": "python",
   "name": "python3"
  },
  "language_info": {
   "codemirror_mode": {
    "name": "ipython",
    "version": 3
   },
   "file_extension": ".py",
   "mimetype": "text/x-python",
   "name": "python",
   "nbconvert_exporter": "python",
   "pygments_lexer": "ipython3",
   "version": "3.9.7"
  },
  "orig_nbformat": 4,
  "vscode": {
   "interpreter": {
    "hash": "4bffcdc72af394cb560897e3074e0f60c8d9efea6f4293e749ef73d6311f5031"
   }
  }
 },
 "nbformat": 4,
 "nbformat_minor": 2
}
