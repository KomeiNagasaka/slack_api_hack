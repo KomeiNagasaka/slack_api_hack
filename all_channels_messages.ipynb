{
 "cells": [
  {
   "cell_type": "code",
   "execution_count": null,
   "metadata": {},
   "outputs": [],
   "source": [
    "import requests\n",
    "import datetime\n",
    "import os\n",
    "import shutil"
   ]
  },
  {
   "cell_type": "code",
   "execution_count": null,
   "metadata": {},
   "outputs": [],
   "source": [
    "# Bot User OAuth Token を指定\n",
    "SLACK_ACCESS_TOKEN = \"xxxx-0000000000000-1111111111111-AAAA1111bbbb2222CCCC3333\"\n"
   ]
  },
  {
   "cell_type": "code",
   "execution_count": null,
   "metadata": {},
   "outputs": [],
   "source": [
    "#APIから情報をもらうために必要なheaderを作る関数\n",
    "def MakeHeader(token):\n",
    "    header = {\n",
    "        \"Authorization\": \"Bearer {}\".format(token)\n",
    "    }\n",
    "    return header\n"
   ]
  },
  {
   "cell_type": "code",
   "execution_count": null,
   "metadata": {},
   "outputs": [],
   "source": [
    "#SlackAPIからレスポンスを受け取る関数\n",
    "def GetSlackApiResponse(url, token, params=None):\n",
    "    response = requests.get(url, headers=MakeHeader(token), params=params)\n",
    "    return response"
   ]
  },
  {
   "cell_type": "code",
   "execution_count": null,
   "metadata": {},
   "outputs": [],
   "source": [
    "#チャンネル一覧を取得する関数\n",
    "def GetChannelsInfo(token):\n",
    "    ChanReadURL = \"https://slack.com/api/conversations.list\"\n",
    "    ChanReadRes = GetSlackApiResponse(ChanReadURL, token)\n",
    "    # channelsキーが存在しない場合には空のリストをデフォルト値として取得\n",
    "    channel_list = ChanReadRes.json().get(\"channels\", [])\n",
    "\n",
    "    ChannelIdNameList = [[channel[\"name\"], channel[\"id\"]]\n",
    "                         for channel in channel_list]\n",
    "    return ChannelIdNameList\n"
   ]
  },
  {
   "cell_type": "code",
   "execution_count": null,
   "metadata": {},
   "outputs": [],
   "source": [
    "#ファイルをダウンロードする関数\n",
    "def download_image(file_url, file_path, token):\n",
    "    res = GetSlackApiResponse(file_url, token)\n",
    "    with open(file_path, \"wb\") as f:\n",
    "        f.write(res.content)\n"
   ]
  },
  {
   "cell_type": "code",
   "execution_count": null,
   "metadata": {},
   "outputs": [],
   "source": [
    "#指定した親ディレクトリ内に新しいディレクトリを作り、そのパスを返す関数\n",
    "def MkDir(parent_dir,folder_name):\n",
    "    created_folder_path=os.path.join(parent_dir, folder_name)\n",
    "    os.makedirs(created_folder_path,exist_ok=True)\n",
    "    return created_folder_path\n"
   ]
  },
  {
   "cell_type": "code",
   "execution_count": null,
   "metadata": {},
   "outputs": [],
   "source": [
    "#チャンネル内の全メッセージを取得する関数\n",
    "def GetChannelThreads(token,channel_id):\n",
    "    # 使用するAPIのメソッドのURL\n",
    "    ConvHisURL = \"https://slack.com/api/conversations.history?channel=\" + channel_id\n",
    "    ConvRepURL = \"https://slack.com/api/conversations.replies\"\n",
    "    #メソッドを使ってチャンネルの情報を取得\n",
    "    ConvHisData = GetSlackApiResponse(ConvHisURL, token).json()\n",
    "    \n",
    "    # 出力するメッセージデータのリスト\n",
    "    writeTextList = []\n",
    "    #ダウンロードしたファイルの一時保管場所\n",
    "    tmp_folder = MkDir(\"tmp\", \"tmp_{}\".format(channel_id))\n",
    "\n",
    "    #チャンネルへ正常にアクセスできている場合の処理\n",
    "    if ConvHisData[\"ok\"] == True:\n",
    "        # データをデコードし、リストへ格納する\n",
    "        ThreadList = ConvHisData[\"messages\"]\n",
    "        for messages in ThreadList:\n",
    "            #スレッドのIDを取得\n",
    "            THREAD_NUMBER = messages[\"ts\"]  # tsはスレッドの識別子。\n",
    "            dt = datetime.datetime.fromtimestamp(float(THREAD_NUMBER))\n",
    "\n",
    "            #スレッドのメッセージとリプライを取得\n",
    "            payload = {\n",
    "                \"channel\": channel_id,\n",
    "                \"ts\": THREAD_NUMBER\n",
    "            }\n",
    "            ThreadMessages = GetSlackApiResponse(\n",
    "                ConvRepURL, token, payload).json()[\"messages\"]\n",
    "            if 0 != len(ThreadMessages):\n",
    "                for reply in ThreadMessages:\n",
    "                    dt = datetime.datetime.fromtimestamp(float(reply[\"ts\"]))\n",
    "                    ReplyText = reply[\"text\"]\n",
    "                    if \"files\" in reply:\n",
    "                        for file_info in reply[\"files\"]:\n",
    "                            file_id = file_info[\"id\"]\n",
    "                            file_name = file_info[\"name\"]\n",
    "                            file_url = file_info[\"url_private_download\"]\n",
    "                            ReplyText = \"{}\\n{}\\n{}\\n{}\\n{}\\n\".format(\n",
    "                                dt, ReplyText, file_id, file_name, file_url)\n",
    "                            # ファイルをダウンロードする\n",
    "                            file_path = os.path.join(tmp_folder, file_name)\n",
    "                            download_image(file_url, file_path, token)\n",
    "                    else:\n",
    "                        ReplyText = \"{}\\n{}\\n\".format(dt, ReplyText)\n",
    "                    writeTextList.append(ReplyText)\n",
    "            writeTextList.append(\"----------------------------------------\")\n",
    "\n",
    "    #チャンネルにアクセスできていない場合の処理。\n",
    "    else:\n",
    "        writeTextList.extend(\n",
    "            [\"チャンネルID:{}\".format(channel_id), \"エラーメッセージ:{}\".format(\n",
    "                ConvHisData[\"error\"]), \"エラーです。チャンネルにアクセスすることができません。一部のチャンネルのみでこのエラーが出る場合は、チャンネルにアプリが追加されていないことが原因である可能性が高いです。\"]\n",
    "            )\n",
    "    return writeTextList, tmp_folder\n",
    "\n",
    "        "
   ]
  },
  {
   "cell_type": "code",
   "execution_count": null,
   "metadata": {},
   "outputs": [],
   "source": [
    "#実際の処理\n",
    "#出力先のフォルダを作成\n",
    "now = datetime.datetime.now().strftime(\"%Y%m%d_%H%M%S\")\n",
    "out_folder_path=MkDir(\"out\", now)\n",
    "\n",
    "\n",
    "for channel_name, channel_id in GetChannelsInfo(SLACK_ACCESS_TOKEN):\n",
    "    message_list, tmp_folder=GetChannelThreads(SLACK_ACCESS_TOKEN, channel_id)\n",
    "    channel_folder_path = MkDir(out_folder_path, channel_name)\n",
    "    \n",
    "    #一時保管フォルダの中身を移動\n",
    "    shutil.move(tmp_folder, os.path.join(channel_folder_path,\"files\"))\n",
    "    \n",
    "    # リストのデータ(取得したメッセージ)をファイルへ出力する\n",
    "    if 0 != len(message_list):\n",
    "        obj = map(lambda x: x + \"\\n\", message_list)\n",
    "        with open(os.path.join(channel_folder_path,\"message.txt\"), \"a\", encoding=\"utf-8\", newline=\"\\n\") as f:\n",
    "            f.writelines(obj)\n"
   ]
  }
 ],
 "metadata": {
  "kernelspec": {
   "display_name": "base",
   "language": "python",
   "name": "python3"
  },
  "language_info": {
   "codemirror_mode": {
    "name": "ipython",
    "version": 3
   },
   "file_extension": ".py",
   "mimetype": "text/x-python",
   "name": "python",
   "nbconvert_exporter": "python",
   "pygments_lexer": "ipython3",
   "version": "3.9.7"
  },
  "orig_nbformat": 4,
  "vscode": {
   "interpreter": {
    "hash": "4bffcdc72af394cb560897e3074e0f60c8d9efea6f4293e749ef73d6311f5031"
   }
  }
 },
 "nbformat": 4,
 "nbformat_minor": 2
}
