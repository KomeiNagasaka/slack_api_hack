{
 "cells": [
  {
   "cell_type": "code",
   "execution_count": null,
   "metadata": {},
   "outputs": [],
   "source": [
    "import requests\n",
    "import json\n",
    "import datetime\n",
    "import os\n",
    "import shutil"
   ]
  },
  {
   "cell_type": "code",
   "execution_count": null,
   "metadata": {},
   "outputs": [],
   "source": [
    "# Bot User OAuth Token を指定\n",
    "SLACK_ACCESS_TOKEN = \"xxxx-0000000000000-1111111111111-AAAA1111bbbb2222CCCC3333\"\n"
   ]
  },
  {
   "cell_type": "code",
   "execution_count": null,
   "metadata": {},
   "outputs": [],
   "source": [
    "#APIから情報をもらうために必要なheaderを作る関数\n",
    "def MakeHeader(token):\n",
    "    header = {\n",
    "        \"Authorization\": \"Bearer {}\".format(token)\n",
    "    }\n",
    "    return header\n"
   ]
  },
  {
   "cell_type": "code",
   "execution_count": null,
   "metadata": {},
   "outputs": [],
   "source": [
    "#チャンネル一覧を取得する関数\n",
    "def GetChannelsInfo(token):\n",
    "    ChanReadURL = \"https://slack.com/api/conversations.list\"\n",
    "    ChanReadRes = requests.get(ChanReadURL, headers=MakeHeader(token))\n",
    "    channel_data = ChanReadRes.json()\n",
    "    channel_list = channel_data[\"channels\"]\n",
    "\n",
    "    ChannelIdNameList = []\n",
    "    for channel in channel_list:\n",
    "        ChannelName = channel[\"name\"]\n",
    "        ChannelId = channel[\"id\"]\n",
    "        ChannelIdNameList.append([ChannelName, ChannelId])\n",
    "    return ChannelIdNameList\n"
   ]
  },
  {
   "cell_type": "code",
   "execution_count": null,
   "metadata": {},
   "outputs": [],
   "source": [
    "#ファイルをダウンロードする関数\n",
    "def download_image(file_url, file_path, token):\n",
    "    r = requests.get(file_url, headers=MakeHeader(token))\n",
    "    with open(file_path, \"wb\") as f:\n",
    "        f.write(r.content)\n"
   ]
  },
  {
   "cell_type": "code",
   "execution_count": null,
   "metadata": {},
   "outputs": [],
   "source": [
    "#チャンネルごとのフォルダを作る関数\n",
    "def MkDirForEachChan(token):\n",
    "    #大元のフォルダ\n",
    "    now = datetime.datetime.now()\n",
    "    folder_name = now.strftime(\"%Y%m%d_%H%M%S\")\n",
    "    os.makedirs(folder_name)\n",
    "    for name, id in GetChannelsInfo(token):\n",
    "        channnel_folder = os.path.join(folder_name, name)\n",
    "    return folder_name\n"
   ]
  },
  {
   "cell_type": "code",
   "execution_count": null,
   "metadata": {},
   "outputs": [],
   "source": [
    "#チャンネル内の全メッセージを取得する関数\n",
    "def GetChannelThreads(token,channel_id):\n",
    "    # 使用するAPIのメソッドのURL\n",
    "    ConvHisURL = \"https://slack.com/api/conversations.history?channel=\" + channel_id\n",
    "    ConvRepURL = \"https://slack.com/api/conversations.replies\"\n",
    "\n",
    "    ConvHisRes = requests.get(ConvHisURL, headers=MakeHeader(token)).content\n",
    "    ConvHisData = json.loads(ConvHisRes)\n",
    "    \n",
    "    # 出力するデータのリスト\n",
    "    writeTextList = []\n",
    "    #ダウンロードしたファイルの一時保管場所\n",
    "    tmp_folder = \"tmp/tmp_{}\".format(channel_id)\n",
    "    os.makedirs(tmp_folder)\n",
    "\n",
    "    #チャンネルへ正常にアクセスできている場合の処理\n",
    "    if ConvHisData[\"ok\"] == True:\n",
    "        # データをデコードし、リストへ格納する\n",
    "        ThreadList = ConvHisData[\"messages\"]\n",
    "        for messages in ThreadList:\n",
    "            #スレッドのIDを取得\n",
    "            THREAD_NUMBER = messages[\"ts\"]  # tsはスレッドの識別子。\n",
    "            dt = datetime.datetime.fromtimestamp(float(token))\n",
    "\n",
    "            #スレッドのメッセージとリプライを取得\n",
    "            payload = {\n",
    "                \"channel\": channel_id,\n",
    "                \"ts\": THREAD_NUMBER\n",
    "            }\n",
    "            ConvRepRes = requests.get(ConvRepURL, headers=MakeHeader(token), params=payload)\n",
    "\n",
    "            ThreadJson = ConvRepRes.json()\n",
    "            ThreadMessages = ThreadJson[\"messages\"]\n",
    "            if 0 != len(ThreadMessages):\n",
    "                for reply in ThreadMessages:\n",
    "                    dt = datetime.datetime.fromtimestamp(float(reply[\"ts\"]))\n",
    "                    ReplyText = reply[\"text\"]\n",
    "                    if \"files\" in reply:\n",
    "                        for file_info in reply[\"files\"]:\n",
    "                            file_id = file_info[\"id\"]\n",
    "                            file_name = file_info[\"name\"]\n",
    "                            file_url = file_info[\"url_private_download\"]\n",
    "                            ReplyText = \"{}\\n{}\\n{}\\n{}\\n{}\\n\".format(\n",
    "                                dt, ReplyText, file_id, file_name, file_url)\n",
    "                            # ファイルをダウンロードする\n",
    "                            file_path = os.path.join(tmp_folder, file_name)\n",
    "                            download_image(file_url, file_path, token)\n",
    "                    else:\n",
    "                        ReplyText = \"{}\\n{}\\n\".format(dt, ReplyText)\n",
    "                    writeTextList.append(ReplyText)\n",
    "            writeTextList.append(\"----------------------------------------\")\n",
    "\n",
    "    #チャンネルにアクセスできていない場合の処理。\n",
    "    else:\n",
    "        writeTextList.extend(\n",
    "            [\"チャンネルID:{}\".format(channel_id), \"エラーメッセージ:{}\".format(\n",
    "                ConvHisData[\"error\"]), \"エラーです。チャンネルにアクセスすることができません。一部のチャンネルのみでこのエラーが出る場合は、チャンネルにアプリが追加されていないことが原因である可能性が高いです。\"]\n",
    "            )\n",
    "    return writeTextList, tmp_folder\n",
    "\n",
    "        "
   ]
  },
  {
   "cell_type": "code",
   "execution_count": null,
   "metadata": {},
   "outputs": [],
   "source": [
    "#実際の処理\n",
    "os.makedirs(\"tmp\",exist_ok=True)\n",
    "out_folder=MkDirForEachChan(SLACK_ACCESS_TOKEN)\n",
    "\n",
    "for name, id in GetChannelsInfo(SLACK_ACCESS_TOKEN):\n",
    "    message_list, tmp_folder=GetChannelThreads(SLACK_ACCESS_TOKEN, id)\n",
    "    \n",
    "    #一時保管フォルダの中身を移動\n",
    "    shutil.move(tmp_folder, \"{}/{}/files\".format(out_folder, name))\n",
    "    \n",
    "    # リストのデータ(取得したメッセージ)をファイルへ出力する\n",
    "    if 0 != len(message_list):\n",
    "        obj = map(lambda x: x + \"\\n\", message_list)\n",
    "        with open(\"{}/{}/message.txt\".format(out_folder,name), \"a\", encoding=\"utf-8\", newline=\"\\n\") as f:\n",
    "            f.writelines(obj)\n"
   ]
  }
 ],
 "metadata": {
  "kernelspec": {
   "display_name": "base",
   "language": "python",
   "name": "python3"
  },
  "language_info": {
   "codemirror_mode": {
    "name": "ipython",
    "version": 3
   },
   "file_extension": ".py",
   "mimetype": "text/x-python",
   "name": "python",
   "nbconvert_exporter": "python",
   "pygments_lexer": "ipython3",
   "version": "3.9.7"
  },
  "orig_nbformat": 4,
  "vscode": {
   "interpreter": {
    "hash": "4bffcdc72af394cb560897e3074e0f60c8d9efea6f4293e749ef73d6311f5031"
   }
  }
 },
 "nbformat": 4,
 "nbformat_minor": 2
}
